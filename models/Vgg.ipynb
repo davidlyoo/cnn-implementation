{
 "cells": [
  {
   "cell_type": "code",
   "execution_count": 1,
   "metadata": {
    "ExecuteTime": {
     "end_time": "2024-11-11T09:42:44.876846Z",
     "start_time": "2024-11-11T09:42:35.481340Z"
    },
    "execution": {
     "iopub.execute_input": "2024-11-12T05:14:45.513947Z",
     "iopub.status.busy": "2024-11-12T05:14:45.512715Z",
     "iopub.status.idle": "2024-11-12T05:14:53.185034Z",
     "shell.execute_reply": "2024-11-12T05:14:53.183628Z",
     "shell.execute_reply.started": "2024-11-12T05:14:45.513860Z"
    },
    "id": "GAC9sWkdBKGR",
    "tags": []
   },
   "outputs": [],
   "source": [
    "import torch\n",
    "import torch.nn as nn\n",
    "import torch.optim as optim\n",
    "import torch.nn.functional as F\n",
    "import torch.backends.cudnn as cudnn\n",
    "\n",
    "import torchvision\n",
    "import torchvision.datasets as datasets\n",
    "import torchvision.transforms as transforms\n",
    "\n",
    "import random"
   ]
  },
  {
   "cell_type": "code",
   "execution_count": 2,
   "metadata": {
    "ExecuteTime": {
     "end_time": "2024-11-11T09:42:44.995877Z",
     "start_time": "2024-11-11T09:42:44.906280Z"
    },
    "execution": {
     "iopub.execute_input": "2024-11-12T05:14:53.190126Z",
     "iopub.status.busy": "2024-11-12T05:14:53.188936Z",
     "iopub.status.idle": "2024-11-12T05:14:53.282501Z",
     "shell.execute_reply": "2024-11-12T05:14:53.281049Z",
     "shell.execute_reply.started": "2024-11-12T05:14:53.190042Z"
    },
    "id": "BauBkbLmBOJM",
    "tags": []
   },
   "outputs": [
    {
     "name": "stdout",
     "output_type": "stream",
     "text": [
      "device is cuda\n"
     ]
    }
   ],
   "source": [
    "seed = 2024\n",
    "random.seed(seed)\n",
    "torch.manual_seed(seed)\n",
    "torch.cuda.manual_seed_all(seed)\n",
    "cudnn.deterministic = True\n",
    "cudnn.benchmark = False\n",
    "\n",
    "device = 'cuda' if torch.cuda.is_available() else 'cpu'\n",
    "print(f'device is {device}')"
   ]
  },
  {
   "cell_type": "code",
   "execution_count": 3,
   "metadata": {
    "ExecuteTime": {
     "end_time": "2024-11-11T09:42:45.527625Z",
     "start_time": "2024-11-11T09:42:45.527602Z"
    },
    "execution": {
     "iopub.execute_input": "2024-11-12T05:14:53.284827Z",
     "iopub.status.busy": "2024-11-12T05:14:53.283985Z",
     "iopub.status.idle": "2024-11-12T05:14:57.471364Z",
     "shell.execute_reply": "2024-11-12T05:14:57.470062Z",
     "shell.execute_reply.started": "2024-11-12T05:14:53.284755Z"
    },
    "tags": []
   },
   "outputs": [
    {
     "name": "stdout",
     "output_type": "stream",
     "text": [
      "Files already downloaded and verified\n",
      "Files already downloaded and verified\n"
     ]
    }
   ],
   "source": [
    "transform_train = transforms.Compose([\n",
    "    transforms.RandomCrop(32, padding=4),\n",
    "    transforms.RandomHorizontalFlip(),\n",
    "    transforms.ToTensor(),\n",
    "    transforms.Normalize((0.4914, 0.4822, 0.4465), (0.2023, 0.1994, 0.2010))\n",
    "])\n",
    "\n",
    "transform_test = transforms.Compose([\n",
    "    transforms.ToTensor(),\n",
    "    transforms.Normalize((0.4914, 0.4822, 0.4465), (0.2023, 0.1994, 0.2010))\n",
    "])\n",
    "\n",
    "train_dataset = datasets.CIFAR10(root='.', train=True, \n",
    "                                 download=True,\n",
    "                                 transform=transform_train)\n",
    "test_dataset = datasets.CIFAR10(root='.', train=False,\n",
    "                                download=True,\n",
    "                                transform=transform_test)"
   ]
  },
  {
   "cell_type": "code",
   "execution_count": 4,
   "metadata": {
    "ExecuteTime": {
     "end_time": "2024-11-11T09:42:45.561312Z",
     "start_time": "2024-11-11T09:42:45.561279Z"
    },
    "execution": {
     "iopub.execute_input": "2024-11-12T05:14:57.477831Z",
     "iopub.status.busy": "2024-11-12T05:14:57.476910Z",
     "iopub.status.idle": "2024-11-12T05:14:57.505514Z",
     "shell.execute_reply": "2024-11-12T05:14:57.504046Z",
     "shell.execute_reply.started": "2024-11-12T05:14:57.477727Z"
    },
    "tags": []
   },
   "outputs": [],
   "source": [
    "train_size = int(0.8 * len(train_dataset))\n",
    "validation_size = len(train_dataset) - train_size\n",
    "train_dataset, validation_dataset = torch.utils.data.random_split(train_dataset, [train_size, validation_size])"
   ]
  },
  {
   "cell_type": "code",
   "execution_count": 5,
   "metadata": {
    "ExecuteTime": {
     "end_time": "2024-11-11T09:20:41.223249Z",
     "start_time": "2024-11-11T09:20:41.158169Z"
    },
    "execution": {
     "iopub.execute_input": "2024-11-12T05:14:57.508283Z",
     "iopub.status.busy": "2024-11-12T05:14:57.507344Z",
     "iopub.status.idle": "2024-11-12T05:14:57.519033Z",
     "shell.execute_reply": "2024-11-12T05:14:57.517801Z",
     "shell.execute_reply.started": "2024-11-12T05:14:57.508232Z"
    },
    "tags": []
   },
   "outputs": [],
   "source": [
    "batch_size = 128\n",
    "train_loader = torch.utils.data.DataLoader(train_dataset,\n",
    "                                           batch_size=batch_size, \n",
    "                                           shuffle=True,\n",
    "                                           num_workers=2)\n",
    "validation_loader = torch.utils.data.DataLoader(validation_dataset,\n",
    "                                                batch_size=batch_size,\n",
    "                                                shuffle=False,\n",
    "                                                num_workers=2)\n",
    "test_loader = torch.utils.data.DataLoader(test_dataset,\n",
    "                                          batch_size=batch_size,\n",
    "                                          shuffle=False,\n",
    "                                          num_workers=2)\n",
    "\n",
    "classes = ('plane', 'car', 'bird', 'cat', 'deer',\n",
    "           'dog', 'frog', 'horse', 'ship', 'truck')"
   ]
  },
  {
   "cell_type": "code",
   "execution_count": 11,
   "metadata": {
    "ExecuteTime": {
     "end_time": "2024-11-11T09:20:44.653412Z",
     "start_time": "2024-11-11T09:20:44.640922Z"
    },
    "execution": {
     "iopub.execute_input": "2024-11-12T05:15:26.074447Z",
     "iopub.status.busy": "2024-11-12T05:15:26.073218Z",
     "iopub.status.idle": "2024-11-12T05:15:26.096587Z",
     "shell.execute_reply": "2024-11-12T05:15:26.095667Z",
     "shell.execute_reply.started": "2024-11-12T05:15:26.074363Z"
    },
    "tags": []
   },
   "outputs": [],
   "source": [
    "cfg = {\n",
    "    'VGG11': [64, 'M', 128, 'M', 256, 256, 'M', 512, 512, 'M', 512, 512, 'M'],\n",
    "    'VGG13': [64, 64, 'M', 128, 128, 'M', 256, 256, 'M', 512, 512, 'M', 512, 512, 'M'],\n",
    "    'VGG16': [64, 64, 'M', 128, 128, 'M', 256, 256, 256, 'M', 512, 512, 512, 'M', 512, 512, 512, 'M'],\n",
    "    'VGG19': [64, 64, 'M', 128, 128, 'M', 256, 256, 256, 256, 'M', 512, 512, 512, 512, 'M', 512, 512, 512, 512, 'M'],\n",
    "}\n",
    "class VGG(nn.Module):\n",
    "    def __init__(self, vgg_name):\n",
    "        super(VGG, self).__init__()\n",
    "        self.features = self._make_layers(cfg[vgg_name])\n",
    "        self.classifier = nn.Linear(512, 10)\n",
    "\n",
    "    def forward(self, x):\n",
    "        out = self.features(x)\n",
    "        out = out.view(out.size(0), -1)\n",
    "        out = self.classifier(out)\n",
    "        return out\n",
    "\n",
    "    def _make_layers(self, cfg):\n",
    "        layers = []\n",
    "        in_channels = 3\n",
    "        for x in cfg:\n",
    "            if x == 'M':\n",
    "                layers += [nn.MaxPool2d(kernel_size=2, stride=2)]\n",
    "            else:\n",
    "                layers += [nn.Conv2d(in_channels, x, kernel_size=3, padding=1),\n",
    "                           nn.BatchNorm2d(x),\n",
    "                           nn.ReLU(inplace=True)]\n",
    "                in_channels = x\n",
    "        layers += [nn.AvgPool2d(kernel_size=1, stride=1)]\n",
    "        return nn.Sequential(*layers)"
   ]
  },
  {
   "cell_type": "code",
   "execution_count": 12,
   "metadata": {
    "ExecuteTime": {
     "end_time": "2024-11-11T09:20:46.693848Z",
     "start_time": "2024-11-11T09:20:46.683228Z"
    },
    "execution": {
     "iopub.execute_input": "2024-11-12T05:15:26.282429Z",
     "iopub.status.busy": "2024-11-12T05:15:26.274793Z",
     "iopub.status.idle": "2024-11-12T05:15:26.300006Z",
     "shell.execute_reply": "2024-11-12T05:15:26.299088Z",
     "shell.execute_reply.started": "2024-11-12T05:15:26.282334Z"
    },
    "tags": []
   },
   "outputs": [],
   "source": [
    "cfg = {\n",
    "    'VGG11': [64, 'M', 128, 'M', 256, 256, 'M', 512, 512, 'M', 512, 512, 'M'],\n",
    "    'VGG13': [64, 64, 'M', 128, 128, 'M', 256, 256, 'M', 512, 512, 'M', 512, 512, 'M'],\n",
    "    'VGG16': [64, 64, 'M', 128, 128, 'M', 256, 256, 256, 'M', 512, 512, 512, 'M', 512, 512, 512, 'M'],\n",
    "    'VGG19': [64, 64, 'M', 128, 128, 'M', 256, 256, 256, 256, 'M', 512, 512, 512, 512, 'M', 512, 512, 512, 512, 'M'],\n",
    "}"
   ]
  },
  {
   "cell_type": "code",
   "execution_count": 13,
   "metadata": {
    "ExecuteTime": {
     "end_time": "2024-11-11T09:20:47.323800Z",
     "start_time": "2024-11-11T09:20:47.318097Z"
    },
    "execution": {
     "iopub.execute_input": "2024-11-12T05:15:26.487557Z",
     "iopub.status.busy": "2024-11-12T05:15:26.486759Z",
     "iopub.status.idle": "2024-11-12T05:15:26.507206Z",
     "shell.execute_reply": "2024-11-12T05:15:26.504931Z",
     "shell.execute_reply.started": "2024-11-12T05:15:26.487484Z"
    },
    "tags": []
   },
   "outputs": [],
   "source": [
    "class VGG(nn.Module):\n",
    "    def __init__(self, vgg_name):\n",
    "        super(VGG, self).__init__()\n",
    "        self.features = self._make_layers(cfg[vgg_name])\n",
    "        self.classifier = nn.Linear(512, 10)\n",
    "\n",
    "    def forward(self, x):\n",
    "        out = self.features(x)\n",
    "        out = out.view(out.size(0), -1)\n",
    "        out = self.classifier(out)\n",
    "        return out\n",
    "\n",
    "    def _make_layers(self, cfg):\n",
    "        layers = []\n",
    "        in_channels = 3\n",
    "        for x in cfg:\n",
    "            if x == 'M':\n",
    "                layers += [nn.MaxPool2d(kernel_size=2, stride=2)]\n",
    "            else:\n",
    "                layers += [nn.Conv2d(in_channels, x, kernel_size=3, padding=1),\n",
    "                           nn.BatchNorm2d(x),\n",
    "                           nn.ReLU(inplace=True)]\n",
    "                in_channels = x\n",
    "        layers += [nn.AvgPool2d(kernel_size=1, stride=1)]\n",
    "        return nn.Sequential(*layers)"
   ]
  },
  {
   "cell_type": "code",
   "execution_count": 14,
   "metadata": {
    "ExecuteTime": {
     "end_time": "2024-11-11T09:21:09.085407Z",
     "start_time": "2024-11-11T09:21:08.882774Z"
    },
    "execution": {
     "iopub.execute_input": "2024-11-12T05:15:27.214327Z",
     "iopub.status.busy": "2024-11-12T05:15:27.213426Z",
     "iopub.status.idle": "2024-11-12T05:15:27.360378Z",
     "shell.execute_reply": "2024-11-12T05:15:27.359610Z",
     "shell.execute_reply.started": "2024-11-12T05:15:27.214248Z"
    },
    "tags": []
   },
   "outputs": [],
   "source": [
    "model = VGG('VGG13').to(device)\n",
    "num_epochs = 30\n",
    "learning_rate = 0.001\n",
    "criterion = nn.CrossEntropyLoss()\n",
    "optimizer = optim.Adam(model.parameters(), lr=learning_rate, weight_decay=1e-3)\n",
    "scheduler = optim.lr_scheduler.CosineAnnealingLR(optimizer, T_max=num_epochs)"
   ]
  },
  {
   "cell_type": "code",
   "execution_count": 15,
   "metadata": {
    "ExecuteTime": {
     "end_time": "2024-11-11T09:30:22.830694Z",
     "start_time": "2024-11-11T09:21:09.803893Z"
    },
    "execution": {
     "iopub.execute_input": "2024-11-12T05:15:28.083317Z",
     "iopub.status.busy": "2024-11-12T05:15:28.081619Z",
     "iopub.status.idle": "2024-11-12T05:24:15.845753Z",
     "shell.execute_reply": "2024-11-12T05:24:15.843203Z",
     "shell.execute_reply.started": "2024-11-12T05:15:28.083229Z"
    },
    "tags": []
   },
   "outputs": [
    {
     "name": "stdout",
     "output_type": "stream",
     "text": [
      "        Epoch [1/30]\n",
      "     Train Loss: 1.4965\n",
      "Validation Loss: 1.5667\n",
      "      Train_acc: 44.15%\n",
      "        Val_acc: 49.23%\n",
      "\n",
      "        Epoch [2/30]\n",
      "     Train Loss: 1.0571\n",
      "Validation Loss: 1.3565\n",
      "      Train_acc: 62.15%\n",
      "        Val_acc: 55.53%\n",
      "\n",
      "        Epoch [3/30]\n",
      "     Train Loss: 0.8809\n",
      "Validation Loss: 1.0460\n",
      "      Train_acc: 69.13%\n",
      "        Val_acc: 65.06%\n",
      "\n",
      "        Epoch [4/30]\n",
      "     Train Loss: 0.7740\n",
      "Validation Loss: 1.1485\n",
      "      Train_acc: 73.43%\n",
      "        Val_acc: 61.88%\n",
      "\n",
      "        Epoch [5/30]\n",
      "     Train Loss: 0.7017\n",
      "Validation Loss: 0.8156\n",
      "      Train_acc: 76.03%\n",
      "        Val_acc: 71.70%\n",
      "\n",
      "        Epoch [6/30]\n",
      "     Train Loss: 0.6447\n",
      "Validation Loss: 0.9132\n",
      "      Train_acc: 78.20%\n",
      "        Val_acc: 70.42%\n",
      "\n",
      "        Epoch [7/30]\n",
      "     Train Loss: 0.5994\n",
      "Validation Loss: 0.7908\n",
      "      Train_acc: 79.70%\n",
      "        Val_acc: 73.04%\n",
      "\n",
      "        Epoch [8/30]\n",
      "     Train Loss: 0.5541\n",
      "Validation Loss: 0.7018\n",
      "      Train_acc: 81.49%\n",
      "        Val_acc: 76.59%\n",
      "\n",
      "        Epoch [9/30]\n",
      "     Train Loss: 0.5166\n",
      "Validation Loss: 0.7000\n",
      "      Train_acc: 82.73%\n",
      "        Val_acc: 77.09%\n",
      "\n",
      "        Epoch [10/30]\n",
      "     Train Loss: 0.4777\n",
      "Validation Loss: 0.6498\n",
      "      Train_acc: 83.88%\n",
      "        Val_acc: 78.51%\n",
      "\n",
      "        Epoch [11/30]\n",
      "     Train Loss: 0.4472\n",
      "Validation Loss: 0.5100\n",
      "      Train_acc: 85.07%\n",
      "        Val_acc: 82.49%\n",
      "\n",
      "        Epoch [12/30]\n",
      "     Train Loss: 0.4141\n",
      "Validation Loss: 0.6233\n",
      "      Train_acc: 86.03%\n",
      "        Val_acc: 79.65%\n",
      "\n",
      "        Epoch [13/30]\n",
      "     Train Loss: 0.3861\n",
      "Validation Loss: 0.5124\n",
      "      Train_acc: 87.02%\n",
      "        Val_acc: 83.44%\n",
      "\n",
      "        Epoch [14/30]\n",
      "     Train Loss: 0.3600\n",
      "Validation Loss: 0.4860\n",
      "      Train_acc: 87.86%\n",
      "        Val_acc: 83.42%\n",
      "\n",
      "        Epoch [15/30]\n",
      "     Train Loss: 0.3403\n",
      "Validation Loss: 0.4219\n",
      "      Train_acc: 88.63%\n",
      "        Val_acc: 85.51%\n",
      "\n",
      "        Epoch [16/30]\n",
      "     Train Loss: 0.3072\n",
      "Validation Loss: 0.4816\n",
      "      Train_acc: 89.80%\n",
      "        Val_acc: 84.42%\n",
      "\n",
      "        Epoch [17/30]\n",
      "     Train Loss: 0.2855\n",
      "Validation Loss: 0.3987\n",
      "      Train_acc: 90.40%\n",
      "        Val_acc: 86.77%\n",
      "\n",
      "        Epoch [18/30]\n",
      "     Train Loss: 0.2551\n",
      "Validation Loss: 0.4561\n",
      "      Train_acc: 91.29%\n",
      "        Val_acc: 85.13%\n",
      "\n",
      "        Epoch [19/30]\n",
      "     Train Loss: 0.2337\n",
      "Validation Loss: 0.4019\n",
      "      Train_acc: 92.19%\n",
      "        Val_acc: 86.92%\n",
      "\n",
      "        Epoch [20/30]\n",
      "     Train Loss: 0.2125\n",
      "Validation Loss: 0.3640\n",
      "      Train_acc: 92.84%\n",
      "        Val_acc: 88.19%\n",
      "\n",
      "        Epoch [21/30]\n",
      "     Train Loss: 0.1894\n",
      "Validation Loss: 0.3600\n",
      "      Train_acc: 93.61%\n",
      "        Val_acc: 88.21%\n",
      "\n",
      "        Epoch [22/30]\n",
      "     Train Loss: 0.1639\n",
      "Validation Loss: 0.3577\n",
      "      Train_acc: 94.55%\n",
      "        Val_acc: 88.75%\n",
      "\n",
      "        Epoch [23/30]\n",
      "     Train Loss: 0.1429\n",
      "Validation Loss: 0.3454\n",
      "      Train_acc: 95.17%\n",
      "        Val_acc: 88.94%\n",
      "\n",
      "        Epoch [24/30]\n",
      "     Train Loss: 0.1177\n",
      "Validation Loss: 0.3288\n",
      "      Train_acc: 96.14%\n",
      "        Val_acc: 90.06%\n",
      "\n",
      "        Epoch [25/30]\n",
      "     Train Loss: 0.1034\n",
      "Validation Loss: 0.3228\n",
      "      Train_acc: 96.61%\n",
      "        Val_acc: 90.10%\n",
      "\n",
      "        Epoch [26/30]\n",
      "     Train Loss: 0.0922\n",
      "Validation Loss: 0.3308\n",
      "      Train_acc: 96.97%\n",
      "        Val_acc: 90.24%\n",
      "\n",
      "        Epoch [27/30]\n",
      "     Train Loss: 0.0785\n",
      "Validation Loss: 0.3151\n",
      "      Train_acc: 97.38%\n",
      "        Val_acc: 90.62%\n",
      "\n",
      "        Epoch [28/30]\n",
      "     Train Loss: 0.0703\n",
      "Validation Loss: 0.3278\n",
      "      Train_acc: 97.80%\n",
      "        Val_acc: 90.29%\n",
      "\n",
      "        Epoch [29/30]\n",
      "     Train Loss: 0.0643\n",
      "Validation Loss: 0.3311\n",
      "      Train_acc: 97.95%\n",
      "        Val_acc: 90.25%\n",
      "\n",
      "        Epoch [30/30]\n",
      "     Train Loss: 0.0640\n",
      "Validation Loss: 0.3198\n",
      "      Train_acc: 97.99%\n",
      "        Val_acc: 90.46%\n",
      "\n"
     ]
    }
   ],
   "source": [
    "for epoch in range(num_epochs):\n",
    "    total = 0\n",
    "    correct = 0\n",
    "    train_loss = 0.0\n",
    "\n",
    "    # train\n",
    "    model.train()\n",
    "    print(f'        Epoch [{epoch+1}/{num_epochs}]')\n",
    "    for batch_idx, (images, labels) in enumerate(train_loader):\n",
    "        images, labels = images.to(device), labels.to(device)\n",
    "        optimizer.zero_grad()\n",
    "        outputs = model(images)\n",
    "        loss = criterion(outputs, labels)\n",
    "        loss.backward()\n",
    "        optimizer.step()\n",
    "\n",
    "        train_loss += loss.item()\n",
    "        _, predicted = outputs.max(1)\n",
    "        total += labels.size(0)\n",
    "        correct += predicted.eq(labels).sum().item()\n",
    "\n",
    "    train_loss /= len(train_loader)\n",
    "    train_accuracy = 100. * correct / total\n",
    "\n",
    "    # validation\n",
    "    model.eval()\n",
    "    val_loss = 0.0\n",
    "    val_total = 0\n",
    "    val_correct = 0\n",
    "    with torch.no_grad():\n",
    "        for images, labels in validation_loader:\n",
    "            images, labels = images.to('cuda'), labels.to('cuda')\n",
    "            outputs = model(images)\n",
    "            loss = criterion(outputs, labels)\n",
    "\n",
    "            val_loss += loss.item()\n",
    "            _, predicted = outputs.max(1)\n",
    "            val_total += labels.size(0)\n",
    "            val_correct += predicted.eq(labels).sum().item()\n",
    "\n",
    "    val_loss /= len(validation_loader)\n",
    "    val_accuracy = 100. * val_correct / val_total\n",
    "\n",
    "    print(f'     Train Loss: {train_loss:.4f}')\n",
    "    print(f'Validation Loss: {val_loss:.4f}')\n",
    "    print(f'      Train_acc: {train_accuracy:.2f}%')\n",
    "    print(f'        Val_acc: {val_accuracy:.2f}%\\n')\n",
    "\n",
    "    scheduler.step()"
   ]
  },
  {
   "cell_type": "code",
   "execution_count": 16,
   "metadata": {
    "ExecuteTime": {
     "end_time": "2024-11-11T09:30:22.938763Z",
     "start_time": "2024-11-11T09:30:22.938737Z"
    },
    "execution": {
     "iopub.execute_input": "2024-11-12T05:24:35.501960Z",
     "iopub.status.busy": "2024-11-12T05:24:35.500891Z",
     "iopub.status.idle": "2024-11-12T05:24:37.933454Z",
     "shell.execute_reply": "2024-11-12T05:24:37.932090Z",
     "shell.execute_reply.started": "2024-11-12T05:24:35.501860Z"
    },
    "tags": []
   },
   "outputs": [
    {
     "name": "stdout",
     "output_type": "stream",
     "text": [
      "Test Accuracy: 90.71 %\n"
     ]
    }
   ],
   "source": [
    "# test\n",
    "correct = 0\n",
    "model.eval()\n",
    "\n",
    "with torch.no_grad():\n",
    "    for images, labels in test_loader:\n",
    "        images, labels = images.to(device), labels.to(device)\n",
    "        outputs = model(images)\n",
    "        \n",
    "        _, predicted = outputs.max(1)\n",
    "        correct += predicted.eq(labels).sum().item()\n",
    "\n",
    "print(f'Test Accuracy: {100.* correct / len(test_loader.dataset):.2f} %')"
   ]
  }
 ],
 "metadata": {
  "colab": {
   "provenance": []
  },
  "hide_input": false,
  "kernelspec": {
   "display_name": "Python 3.10",
   "language": "python",
   "name": "python3"
  },
  "language_info": {
   "codemirror_mode": {
    "name": "ipython",
    "version": 3
   },
   "file_extension": ".py",
   "mimetype": "text/x-python",
   "name": "python",
   "nbconvert_exporter": "python",
   "pygments_lexer": "ipython3",
   "version": "3.10.12"
  },
  "nbTranslate": {
   "displayLangs": [
    "*"
   ],
   "hotkey": "alt-t",
   "langInMainMenu": true,
   "sourceLang": "en",
   "targetLang": "fr",
   "useGoogleTranslate": true
  },
  "toc": {
   "base_numbering": 1,
   "nav_menu": {},
   "number_sections": true,
   "sideBar": true,
   "skip_h1_title": false,
   "title_cell": "Table of Contents",
   "title_sidebar": "Contents",
   "toc_cell": false,
   "toc_position": {},
   "toc_section_display": true,
   "toc_window_display": false
  },
  "varInspector": {
   "cols": {
    "lenName": 16,
    "lenType": 16,
    "lenVar": 40
   },
   "kernels_config": {
    "python": {
     "delete_cmd_postfix": "",
     "delete_cmd_prefix": "del ",
     "library": "var_list.py",
     "varRefreshCmd": "print(var_dic_list())"
    },
    "r": {
     "delete_cmd_postfix": ") ",
     "delete_cmd_prefix": "rm(",
     "library": "var_list.r",
     "varRefreshCmd": "cat(var_dic_list()) "
    }
   },
   "types_to_exclude": [
    "module",
    "function",
    "builtin_function_or_method",
    "instance",
    "_Feature"
   ],
   "window_display": false
  }
 },
 "nbformat": 4,
 "nbformat_minor": 4
}
