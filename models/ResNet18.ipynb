{
 "cells": [
  {
   "cell_type": "code",
   "execution_count": 1,
   "metadata": {
    "ExecuteTime": {
     "end_time": "2024-11-11T09:20:34.431469Z",
     "start_time": "2024-11-11T09:20:34.427020Z"
    },
    "execution": {
     "iopub.execute_input": "2024-11-16T13:57:58.089970Z",
     "iopub.status.busy": "2024-11-16T13:57:58.089233Z",
     "iopub.status.idle": "2024-11-16T13:58:09.586382Z",
     "shell.execute_reply": "2024-11-16T13:58:09.585413Z",
     "shell.execute_reply.started": "2024-11-16T13:57:58.089919Z"
    },
    "id": "GAC9sWkdBKGR",
    "tags": []
   },
   "outputs": [],
   "source": [
    "import torch\n",
    "import torch.nn as nn\n",
    "import torch.optim as optim\n",
    "import torch.nn.functional as F\n",
    "import torch.backends.cudnn as cudnn\n",
    "\n",
    "import torchvision\n",
    "import torchvision.datasets as datasets\n",
    "import torchvision.transforms as transforms\n",
    "\n",
    "import random\n",
    "import matplotlib.pyplot as plt"
   ]
  },
  {
   "cell_type": "code",
   "execution_count": 2,
   "metadata": {
    "ExecuteTime": {
     "end_time": "2024-11-11T09:20:35.348321Z",
     "start_time": "2024-11-11T09:20:35.340862Z"
    },
    "execution": {
     "iopub.execute_input": "2024-11-16T13:58:09.589092Z",
     "iopub.status.busy": "2024-11-16T13:58:09.587771Z",
     "iopub.status.idle": "2024-11-16T13:58:10.516391Z",
     "shell.execute_reply": "2024-11-16T13:58:10.515510Z",
     "shell.execute_reply.started": "2024-11-16T13:58:09.589042Z"
    },
    "id": "BauBkbLmBOJM",
    "tags": []
   },
   "outputs": [
    {
     "name": "stdout",
     "output_type": "stream",
     "text": [
      "device is cuda\n"
     ]
    }
   ],
   "source": [
    "seed = 2024\n",
    "random.seed(seed)\n",
    "torch.manual_seed(seed)\n",
    "torch.cuda.manual_seed_all(seed)\n",
    "cudnn.deterministic = True\n",
    "cudnn.benchmark = False\n",
    "\n",
    "device = 'cuda' if torch.cuda.is_available() else 'cpu'\n",
    "print(f'device is {device}')"
   ]
  },
  {
   "cell_type": "code",
   "execution_count": 3,
   "metadata": {
    "ExecuteTime": {
     "end_time": "2024-11-11T09:20:38.843901Z",
     "start_time": "2024-11-11T09:20:36.302538Z"
    },
    "execution": {
     "iopub.execute_input": "2024-11-16T13:58:10.518033Z",
     "iopub.status.busy": "2024-11-16T13:58:10.517674Z",
     "iopub.status.idle": "2024-11-16T13:58:14.933825Z",
     "shell.execute_reply": "2024-11-16T13:58:14.933016Z",
     "shell.execute_reply.started": "2024-11-16T13:58:10.517998Z"
    }
   },
   "outputs": [
    {
     "name": "stdout",
     "output_type": "stream",
     "text": [
      "Files already downloaded and verified\n",
      "Files already downloaded and verified\n"
     ]
    }
   ],
   "source": [
    "# Data Aumgentation - Train Data\n",
    "transform_train = transforms.Compose([\n",
    "    transforms.RandomCrop(32, padding=4),\n",
    "    transforms.RandomHorizontalFlip(),\n",
    "    transforms.ToTensor(),\n",
    "    transforms.Normalize((0.4914, 0.4822, 0.4465), (0.2023, 0.1994, 0.2010))\n",
    "])\n",
    "\n",
    "transform_test = transforms.Compose([\n",
    "    transforms.ToTensor(),\n",
    "    transforms.Normalize((0.4914, 0.4822, 0.4465), (0.2023, 0.1994, 0.2010))\n",
    "])\n",
    "\n",
    "train_dataset = datasets.CIFAR10(root='./data', train=True,\n",
    "                                 download=True,\n",
    "                                 transform=transform_train)\n",
    "test_dataset = datasets.CIFAR10(root='./data', train=False,\n",
    "                                download=True,\n",
    "                                transform=transform_test)"
   ]
  },
  {
   "cell_type": "code",
   "execution_count": 4,
   "metadata": {
    "ExecuteTime": {
     "end_time": "2024-11-11T09:20:38.948952Z",
     "start_time": "2024-11-11T09:20:38.940706Z"
    },
    "execution": {
     "iopub.execute_input": "2024-11-16T13:58:14.936150Z",
     "iopub.status.busy": "2024-11-16T13:58:14.935563Z",
     "iopub.status.idle": "2024-11-16T13:58:15.032214Z",
     "shell.execute_reply": "2024-11-16T13:58:15.031223Z",
     "shell.execute_reply.started": "2024-11-16T13:58:14.936117Z"
    }
   },
   "outputs": [],
   "source": [
    "train_size = int(0.8 * len(train_dataset))\n",
    "val_size = len(train_dataset) - train_size\n",
    "train_dataset, val_dataset = torch.utils.data.random_split(train_dataset, [train_size, val_size])"
   ]
  },
  {
   "cell_type": "code",
   "execution_count": 5,
   "metadata": {
    "ExecuteTime": {
     "end_time": "2024-11-11T09:20:41.223249Z",
     "start_time": "2024-11-11T09:20:41.158169Z"
    },
    "execution": {
     "iopub.execute_input": "2024-11-16T13:58:15.034639Z",
     "iopub.status.busy": "2024-11-16T13:58:15.033920Z",
     "iopub.status.idle": "2024-11-16T13:58:15.043276Z",
     "shell.execute_reply": "2024-11-16T13:58:15.041521Z",
     "shell.execute_reply.started": "2024-11-16T13:58:15.034593Z"
    }
   },
   "outputs": [],
   "source": [
    "batch_size = 128\n",
    "train_loader = torch.utils.data.DataLoader(train_dataset,\n",
    "                                           batch_size=batch_size, \n",
    "                                           shuffle=True,\n",
    "                                           num_workers=2)\n",
    "validation_loader = torch.utils.data.DataLoader(val_dataset,\n",
    "                                                batch_size=batch_size,\n",
    "                                                shuffle=False,\n",
    "                                                num_workers=2)\n",
    "test_loader = torch.utils.data.DataLoader(test_dataset,\n",
    "                                          batch_size=batch_size,\n",
    "                                          shuffle=False,\n",
    "                                          num_workers=2)\n",
    "\n",
    "# classes = ('plane', 'car', 'bird', 'cat', 'deer',\n",
    "#            'dog', 'frog', 'horse', 'ship', 'truck')"
   ]
  },
  {
   "cell_type": "code",
   "execution_count": 6,
   "metadata": {
    "ExecuteTime": {
     "end_time": "2024-11-11T09:32:36.633133Z",
     "start_time": "2024-11-11T09:32:36.620921Z"
    },
    "execution": {
     "iopub.execute_input": "2024-11-16T13:58:15.053502Z",
     "iopub.status.busy": "2024-11-16T13:58:15.045811Z",
     "iopub.status.idle": "2024-11-16T13:58:15.070259Z",
     "shell.execute_reply": "2024-11-16T13:58:15.068412Z",
     "shell.execute_reply.started": "2024-11-16T13:58:15.053446Z"
    }
   },
   "outputs": [],
   "source": [
    "class ResNet(nn.Module):\n",
    "    def __init__(self, block, num_blocks):\n",
    "        super(ResNet, self).__init__()\n",
    "        self.in_planes = 64\n",
    "\n",
    "        self.conv1 = nn.Conv2d(3, 64, kernel_size=3,\n",
    "                               stride=1, padding=1, bias=False)\n",
    "        self.bn1 = nn.BatchNorm2d(64)\n",
    "        self.layer1 = self._make_layer(block, 64, num_blocks[0], stride=1)\n",
    "        self.layer2 = self._make_layer(block, 128, num_blocks[1], stride=2)\n",
    "        self.layer3 = self._make_layer(block, 256, num_blocks[2], stride=2)\n",
    "        self.layer4 = self._make_layer(block, 512, num_blocks[3], stride=2)\n",
    "        self.linear = nn.Linear(512*block.expansion, 10)\n",
    "\n",
    "    def _make_layer(self, block, planes, num_blocks, stride):\n",
    "        strides = [stride] + [1]*(num_blocks-1)\n",
    "        layers = []\n",
    "        for stride in strides:\n",
    "            layers.append(block(self.in_planes, planes, stride))\n",
    "            self.in_planes = planes * block.expansion\n",
    "        return nn.Sequential(*layers)\n",
    "\n",
    "    def forward(self, x):\n",
    "        out = F.relu(self.bn1(self.conv1(x)))\n",
    "        out = self.layer1(out)\n",
    "        out = self.layer2(out)\n",
    "        out = self.layer3(out)\n",
    "        out = self.layer4(out)\n",
    "        out = F.avg_pool2d(out, 4)\n",
    "        out = out.view(out.size(0), -1)\n",
    "        out = self.linear(out)\n",
    "        return out"
   ]
  },
  {
   "cell_type": "code",
   "execution_count": 7,
   "metadata": {
    "ExecuteTime": {
     "end_time": "2024-11-11T09:32:37.920011Z",
     "start_time": "2024-11-11T09:32:37.910471Z"
    },
    "execution": {
     "iopub.execute_input": "2024-11-16T13:58:15.073433Z",
     "iopub.status.busy": "2024-11-16T13:58:15.072530Z",
     "iopub.status.idle": "2024-11-16T13:58:15.086674Z",
     "shell.execute_reply": "2024-11-16T13:58:15.085140Z",
     "shell.execute_reply.started": "2024-11-16T13:58:15.073382Z"
    },
    "tags": []
   },
   "outputs": [],
   "source": [
    "class BasicBlock(nn.Module):\n",
    "    expansion = 1\n",
    "\n",
    "    def __init__(self, in_planes, planes, stride=1):\n",
    "        super(BasicBlock, self).__init__()\n",
    "        self.conv1 = nn.Conv2d(\n",
    "            in_planes, planes, kernel_size=3, stride=stride, padding=1, bias=False)\n",
    "        self.bn1 = nn.BatchNorm2d(planes)\n",
    "        self.conv2 = nn.Conv2d(planes, planes, kernel_size=3,\n",
    "                               stride=1, padding=1, bias=False)\n",
    "        self.bn2 = nn.BatchNorm2d(planes)\n",
    "\n",
    "        self.shortcut = nn.Sequential()\n",
    "        if stride != 1 or in_planes != self.expansion*planes:\n",
    "            self.shortcut = nn.Sequential(\n",
    "                nn.Conv2d(in_planes, self.expansion*planes,\n",
    "                          kernel_size=1, stride=stride, bias=False),\n",
    "                nn.BatchNorm2d(self.expansion*planes)\n",
    "            )\n",
    "\n",
    "    def forward(self, x):\n",
    "        out = F.relu(self.bn1(self.conv1(x)))\n",
    "        out = self.bn2(self.conv2(out))\n",
    "        out += self.shortcut(x)\n",
    "        out = F.relu(out)\n",
    "        return out"
   ]
  },
  {
   "cell_type": "code",
   "execution_count": 8,
   "metadata": {
    "ExecuteTime": {
     "end_time": "2024-11-11T09:32:40.237382Z",
     "start_time": "2024-11-11T09:32:40.230634Z"
    },
    "execution": {
     "iopub.execute_input": "2024-11-16T13:58:15.089721Z",
     "iopub.status.busy": "2024-11-16T13:58:15.088744Z",
     "iopub.status.idle": "2024-11-16T13:58:15.095133Z",
     "shell.execute_reply": "2024-11-16T13:58:15.093808Z",
     "shell.execute_reply.started": "2024-11-16T13:58:15.089669Z"
    }
   },
   "outputs": [],
   "source": [
    "def ResNet18():\n",
    "    return ResNet(BasicBlock, [2, 2, 2, 2])"
   ]
  },
  {
   "cell_type": "code",
   "execution_count": 9,
   "metadata": {
    "ExecuteTime": {
     "end_time": "2024-11-11T09:32:41.748321Z",
     "start_time": "2024-11-11T09:32:41.548653Z"
    },
    "execution": {
     "iopub.execute_input": "2024-11-16T13:58:15.098429Z",
     "iopub.status.busy": "2024-11-16T13:58:15.097407Z",
     "iopub.status.idle": "2024-11-16T13:58:15.577111Z",
     "shell.execute_reply": "2024-11-16T13:58:15.576339Z",
     "shell.execute_reply.started": "2024-11-16T13:58:15.098371Z"
    }
   },
   "outputs": [],
   "source": [
    "model = ResNet18().to(device)\n",
    "num_epochs = 50\n",
    "learning_rate = 0.001\n",
    "criterion = nn.CrossEntropyLoss()\n",
    "optimizer = optim.Adam(model.parameters(), lr=learning_rate, weight_decay=1e-3) # L2 regularization 적용\n",
    "scheduler = optim.lr_scheduler.CosineAnnealingLR(optimizer, T_max=num_epochs)\n",
    "\n",
    "# conv layer weight 개수 출력\n",
    "total_weights = sum(p.numel() for p in model.parameters() if p.requires_grad and p.dim() > 1)\n",
    "print(\"Total weights (excluding biases):\", total_weights)"
   ]
  },
  {
   "cell_type": "code",
   "execution_count": 10,
   "metadata": {
    "ExecuteTime": {
     "end_time": "2024-11-11T09:42:04.992769Z",
     "start_time": "2024-11-11T09:32:45.886438Z"
    },
    "execution": {
     "iopub.execute_input": "2024-11-16T13:58:15.579759Z",
     "iopub.status.busy": "2024-11-16T13:58:15.579213Z",
     "iopub.status.idle": "2024-11-16T14:22:53.813461Z",
     "shell.execute_reply": "2024-11-16T14:22:53.811889Z",
     "shell.execute_reply.started": "2024-11-16T13:58:15.579728Z"
    },
    "tags": []
   },
   "outputs": [
    {
     "name": "stdout",
     "output_type": "stream",
     "text": [
      "   Epoch [1/50]\n",
      "Train Loss: 1.5672\n",
      "  Val_Loss: 1.3604\n",
      " Train_acc: 42.14%\n",
      "   Val_acc: 49.43%\n",
      "\n",
      "   Epoch [2/50]\n",
      "Train Loss: 1.1474\n",
      "  Val_Loss: 1.1542\n",
      " Train_acc: 58.43%\n",
      "   Val_acc: 58.46%\n",
      "\n",
      "   Epoch [3/50]\n",
      "Train Loss: 0.9723\n",
      "  Val_Loss: 1.0277\n",
      " Train_acc: 65.42%\n",
      "   Val_acc: 64.95%\n",
      "\n",
      "   Epoch [4/50]\n",
      "Train Loss: 0.8521\n",
      "  Val_Loss: 0.8300\n",
      " Train_acc: 70.09%\n",
      "   Val_acc: 71.24%\n",
      "\n",
      "   Epoch [5/50]\n",
      "Train Loss: 0.7616\n",
      "  Val_Loss: 0.8754\n",
      " Train_acc: 73.72%\n",
      "   Val_acc: 69.61%\n",
      "\n",
      "   Epoch [6/50]\n",
      "Train Loss: 0.6789\n",
      "  Val_Loss: 0.9245\n",
      " Train_acc: 76.77%\n",
      "   Val_acc: 68.12%\n",
      "\n",
      "   Epoch [7/50]\n",
      "Train Loss: 0.6278\n",
      "  Val_Loss: 0.6755\n",
      " Train_acc: 78.38%\n",
      "   Val_acc: 76.48%\n",
      "\n",
      "   Epoch [8/50]\n",
      "Train Loss: 0.5814\n",
      "  Val_Loss: 0.6024\n",
      " Train_acc: 80.20%\n",
      "   Val_acc: 79.22%\n",
      "\n",
      "   Epoch [9/50]\n",
      "Train Loss: 0.5372\n",
      "  Val_Loss: 0.5936\n",
      " Train_acc: 81.80%\n",
      "   Val_acc: 80.21%\n",
      "\n",
      "   Epoch [10/50]\n",
      "Train Loss: 0.5073\n",
      "  Val_Loss: 0.6232\n",
      " Train_acc: 82.89%\n",
      "   Val_acc: 78.57%\n",
      "\n",
      "   Epoch [11/50]\n",
      "Train Loss: 0.4788\n",
      "  Val_Loss: 0.5951\n",
      " Train_acc: 83.77%\n",
      "   Val_acc: 80.02%\n",
      "\n",
      "   Epoch [12/50]\n",
      "Train Loss: 0.4539\n",
      "  Val_Loss: 0.6112\n",
      " Train_acc: 84.69%\n",
      "   Val_acc: 79.92%\n",
      "\n",
      "   Epoch [13/50]\n",
      "Train Loss: 0.4323\n",
      "  Val_Loss: 0.5882\n",
      " Train_acc: 85.37%\n",
      "   Val_acc: 80.17%\n",
      "\n",
      "   Epoch [14/50]\n",
      "Train Loss: 0.4160\n",
      "  Val_Loss: 0.5784\n",
      " Train_acc: 85.76%\n",
      "   Val_acc: 80.47%\n",
      "\n",
      "   Epoch [15/50]\n",
      "Train Loss: 0.3902\n",
      "  Val_Loss: 0.4600\n",
      " Train_acc: 86.80%\n",
      "   Val_acc: 84.50%\n",
      "\n",
      "   Epoch [16/50]\n",
      "Train Loss: 0.3784\n",
      "  Val_Loss: 0.4708\n",
      " Train_acc: 87.21%\n",
      "   Val_acc: 84.10%\n",
      "\n",
      "   Epoch [17/50]\n",
      "Train Loss: 0.3625\n",
      "  Val_Loss: 0.4362\n",
      " Train_acc: 87.62%\n",
      "   Val_acc: 85.09%\n",
      "\n",
      "   Epoch [18/50]\n",
      "Train Loss: 0.3577\n",
      "  Val_Loss: 0.3990\n",
      " Train_acc: 87.81%\n",
      "   Val_acc: 86.45%\n",
      "\n",
      "   Epoch [19/50]\n",
      "Train Loss: 0.3378\n",
      "  Val_Loss: 0.4632\n",
      " Train_acc: 88.57%\n",
      "   Val_acc: 84.55%\n",
      "\n",
      "   Epoch [20/50]\n",
      "Train Loss: 0.3202\n",
      "  Val_Loss: 0.4310\n",
      " Train_acc: 88.98%\n",
      "   Val_acc: 85.89%\n",
      "\n",
      "   Epoch [21/50]\n",
      "Train Loss: 0.3120\n",
      "  Val_Loss: 0.4058\n",
      " Train_acc: 89.31%\n",
      "   Val_acc: 85.99%\n",
      "\n",
      "   Epoch [22/50]\n",
      "Train Loss: 0.2948\n",
      "  Val_Loss: 0.4830\n",
      " Train_acc: 90.09%\n",
      "   Val_acc: 83.49%\n",
      "\n",
      "   Epoch [23/50]\n",
      "Train Loss: 0.2823\n",
      "  Val_Loss: 0.4030\n",
      " Train_acc: 90.44%\n",
      "   Val_acc: 86.23%\n",
      "\n",
      "   Epoch [24/50]\n",
      "Train Loss: 0.2670\n",
      "  Val_Loss: 0.3959\n",
      " Train_acc: 90.85%\n",
      "   Val_acc: 87.17%\n",
      "\n",
      "   Epoch [25/50]\n",
      "Train Loss: 0.2569\n",
      "  Val_Loss: 0.3789\n",
      " Train_acc: 91.33%\n",
      "   Val_acc: 87.39%\n",
      "\n",
      "   Epoch [26/50]\n",
      "Train Loss: 0.2414\n",
      "  Val_Loss: 0.3474\n",
      " Train_acc: 91.78%\n",
      "   Val_acc: 88.39%\n",
      "\n",
      "   Epoch [27/50]\n",
      "Train Loss: 0.2328\n",
      "  Val_Loss: 0.3425\n",
      " Train_acc: 92.11%\n",
      "   Val_acc: 88.68%\n",
      "\n",
      "   Epoch [28/50]\n",
      "Train Loss: 0.2161\n",
      "  Val_Loss: 0.4040\n",
      " Train_acc: 92.77%\n",
      "   Val_acc: 86.72%\n",
      "\n",
      "   Epoch [29/50]\n",
      "Train Loss: 0.2055\n",
      "  Val_Loss: 0.3397\n",
      " Train_acc: 93.12%\n",
      "   Val_acc: 88.91%\n",
      "\n",
      "   Epoch [30/50]\n",
      "Train Loss: 0.1919\n",
      "  Val_Loss: 0.3488\n",
      " Train_acc: 93.45%\n",
      "   Val_acc: 88.70%\n",
      "\n",
      "   Epoch [31/50]\n",
      "Train Loss: 0.1810\n",
      "  Val_Loss: 0.3156\n",
      " Train_acc: 93.82%\n",
      "   Val_acc: 89.55%\n",
      "\n",
      "   Epoch [32/50]\n",
      "Train Loss: 0.1604\n",
      "  Val_Loss: 0.3104\n",
      " Train_acc: 94.63%\n",
      "   Val_acc: 89.95%\n",
      "\n",
      "   Epoch [33/50]\n",
      "Train Loss: 0.1517\n",
      "  Val_Loss: 0.3166\n",
      " Train_acc: 94.88%\n",
      "   Val_acc: 89.96%\n",
      "\n",
      "   Epoch [34/50]\n",
      "Train Loss: 0.1387\n",
      "  Val_Loss: 0.3253\n",
      " Train_acc: 95.40%\n",
      "   Val_acc: 89.73%\n",
      "\n",
      "   Epoch [35/50]\n",
      "Train Loss: 0.1264\n",
      "  Val_Loss: 0.3049\n",
      " Train_acc: 95.81%\n",
      "   Val_acc: 90.22%\n",
      "\n",
      "   Epoch [36/50]\n",
      "Train Loss: 0.1119\n",
      "  Val_Loss: 0.2985\n",
      " Train_acc: 96.32%\n",
      "   Val_acc: 90.73%\n",
      "\n",
      "   Epoch [37/50]\n",
      "Train Loss: 0.1003\n",
      "  Val_Loss: 0.2927\n",
      " Train_acc: 96.63%\n",
      "   Val_acc: 90.79%\n",
      "\n",
      "   Epoch [38/50]\n",
      "Train Loss: 0.0902\n",
      "  Val_Loss: 0.2993\n",
      " Train_acc: 97.06%\n",
      "   Val_acc: 90.90%\n",
      "\n",
      "   Epoch [39/50]\n",
      "Train Loss: 0.0826\n",
      "  Val_Loss: 0.3084\n",
      " Train_acc: 97.31%\n",
      "   Val_acc: 90.61%\n",
      "\n",
      "   Epoch [40/50]\n",
      "Train Loss: 0.0710\n",
      "  Val_Loss: 0.2966\n",
      " Train_acc: 97.80%\n",
      "   Val_acc: 90.76%\n",
      "\n",
      "   Epoch [41/50]\n",
      "Train Loss: 0.0642\n",
      "  Val_Loss: 0.2915\n",
      " Train_acc: 98.02%\n",
      "   Val_acc: 91.20%\n",
      "\n",
      "   Epoch [42/50]\n",
      "Train Loss: 0.0575\n",
      "  Val_Loss: 0.2965\n",
      " Train_acc: 98.19%\n",
      "   Val_acc: 91.29%\n",
      "\n",
      "   Epoch [43/50]\n",
      "Train Loss: 0.0490\n",
      "  Val_Loss: 0.3069\n",
      " Train_acc: 98.61%\n",
      "   Val_acc: 91.16%\n",
      "\n",
      "   Epoch [44/50]\n",
      "Train Loss: 0.0428\n",
      "  Val_Loss: 0.2978\n",
      " Train_acc: 98.85%\n",
      "   Val_acc: 91.18%\n",
      "\n",
      "   Epoch [45/50]\n",
      "Train Loss: 0.0402\n",
      "  Val_Loss: 0.2901\n",
      " Train_acc: 98.86%\n",
      "   Val_acc: 91.85%\n",
      "\n",
      "   Epoch [46/50]\n",
      "Train Loss: 0.0367\n",
      "  Val_Loss: 0.2864\n",
      " Train_acc: 99.02%\n",
      "   Val_acc: 91.53%\n",
      "\n",
      "   Epoch [47/50]\n",
      "Train Loss: 0.0340\n",
      "  Val_Loss: 0.3004\n",
      " Train_acc: 99.07%\n",
      "   Val_acc: 91.43%\n",
      "\n",
      "   Epoch [48/50]\n",
      "Train Loss: 0.0321\n",
      "  Val_Loss: 0.2938\n",
      " Train_acc: 99.15%\n",
      "   Val_acc: 91.71%\n",
      "\n",
      "   Epoch [49/50]\n",
      "Train Loss: 0.0322\n",
      "  Val_Loss: 0.2976\n",
      " Train_acc: 99.13%\n",
      "   Val_acc: 91.75%\n",
      "\n",
      "   Epoch [50/50]\n",
      "Train Loss: 0.0304\n",
      "  Val_Loss: 0.2907\n",
      " Train_acc: 99.20%\n",
      "   Val_acc: 91.88%\n",
      "\n"
     ]
    }
   ],
   "source": [
    "train_losses = []\n",
    "val_losses = []\n",
    "train_accuracies = []\n",
    "val_accuracies = []\n",
    "\n",
    "for epoch in range(num_epochs):\n",
    "    total = 0\n",
    "    correct = 0\n",
    "    train_loss = 0.0\n",
    "\n",
    "    # train\n",
    "    model.train()\n",
    "    print(f'   Epoch [{epoch+1}/{num_epochs}]')\n",
    "    for batch_idx, (images, labels) in enumerate(train_loader):\n",
    "        images, labels = images.to(device), labels.to(device)\n",
    "        optimizer.zero_grad()\n",
    "        outputs = model(images)\n",
    "        loss = criterion(outputs, labels)\n",
    "        loss.backward()\n",
    "        optimizer.step()\n",
    "\n",
    "        train_loss += loss.item()\n",
    "        _, predicted = outputs.max(1)\n",
    "        total += labels.size(0)\n",
    "        correct += predicted.eq(labels).sum().item()\n",
    "\n",
    "    train_loss /= len(train_loader)\n",
    "    train_accuracy = 100. * correct / total\n",
    "\n",
    "    # validation\n",
    "    model.eval()\n",
    "    val_loss = 0.0\n",
    "    val_total = 0\n",
    "    val_correct = 0\n",
    "    with torch.no_grad():\n",
    "        for images, labels in validation_loader:\n",
    "            images, labels = images.to(device), labels.to(device)\n",
    "            outputs = model(images)\n",
    "            loss = criterion(outputs, labels)\n",
    "\n",
    "            val_loss += loss.item()\n",
    "            _, predicted = outputs.max(1)\n",
    "            val_total += labels.size(0)\n",
    "            val_correct += predicted.eq(labels).sum().item()\n",
    "\n",
    "    val_loss /= len(validation_loader)\n",
    "    val_accuracy = 100. * val_correct / val_total\n",
    "\n",
    "    train_losses.append(train_loss)\n",
    "    val_losses.append(val_loss)\n",
    "    train_accuracies.append(train_accuracy)\n",
    "    val_accuracies.append(val_accuracy)\n",
    "\n",
    "\n",
    "    print(f'Train Loss: {train_loss:.4f}')\n",
    "    print(f'  Val_Loss: {val_loss:.4f}')\n",
    "    print(f' Train_acc: {train_accuracy:.2f}%')\n",
    "    print(f'   Val_acc: {val_accuracy:.2f}%\\n')\n",
    "\n",
    "    scheduler.step()"
   ]
  },
  {
   "cell_type": "code",
   "execution_count": 11,
   "metadata": {
    "ExecuteTime": {
     "end_time": "2024-11-11T09:42:47.013481Z",
     "start_time": "2024-11-11T09:42:44.302927Z"
    },
    "execution": {
     "iopub.execute_input": "2024-11-16T14:22:53.818973Z",
     "iopub.status.busy": "2024-11-16T14:22:53.818588Z",
     "iopub.status.idle": "2024-11-16T14:22:57.123684Z",
     "shell.execute_reply": "2024-11-16T14:22:57.122389Z",
     "shell.execute_reply.started": "2024-11-16T14:22:53.818937Z"
    },
    "tags": []
   },
   "outputs": [
    {
     "name": "stdout",
     "output_type": "stream",
     "text": [
      "Test Accuracy: 91.53 %\n"
     ]
    }
   ],
   "source": [
    "# test\n",
    "correct = 0\n",
    "model.eval()\n",
    "\n",
    "with torch.no_grad():\n",
    "    for images, labels in test_loader:\n",
    "        images, labels = images.to(device), labels.to(device)\n",
    "        outputs = model(images)\n",
    "\n",
    "        _, predicted = outputs.max(1)\n",
    "        correct += predicted.eq(labels).sum().item()\n",
    "\n",
    "print(f'Test Accuracy: {100.* correct / len(test_loader.dataset):.2f} %')"
   ]
  },
  {
   "cell_type": "code",
   "execution_count": 12,
   "metadata": {
    "execution": {
     "iopub.execute_input": "2024-11-16T14:22:57.126720Z",
     "iopub.status.busy": "2024-11-16T14:22:57.125985Z",
     "iopub.status.idle": "2024-11-16T14:22:57.679429Z",
     "shell.execute_reply": "2024-11-16T14:22:57.678750Z",
     "shell.execute_reply.started": "2024-11-16T14:22:57.126684Z"
    },
    "tags": []
   },
   "outputs": [
    {
     "data": {
      "image/png": "[encoded data removed]",
      "text/plain": [
       "<Figure size 1000x500 with 1 Axes>"
      ]
     },
     "metadata": {},
     "output_type": "display_data"
    },
    {
     "data": {
      "image/png": "[encoded data removed]",
      "text/plain": [
       "<Figure size 1000x500 with 1 Axes>"
      ]
     },
     "metadata": {},
     "output_type": "display_data"
    }
   ],
   "source": [
    "# Loss graph\n",
    "plt.figure(figsize=(10, 5))\n",
    "plt.plot(range(1, num_epochs+1), train_losses, label='Train Loss')\n",
    "plt.plot(range(1, num_epochs+1), val_losses, label='Val Loss')\n",
    "plt.xlabel('Epoch')\n",
    "plt.ylabel('Loss')\n",
    "plt.title('Loss')\n",
    "plt.legend()\n",
    "plt.show()\n",
    "\n",
    "# Accuracy graph\n",
    "plt.figure(figsize=(10, 5))\n",
    "plt.plot(range(1, num_epochs+1), train_accuracies, label='Train Accuracy')\n",
    "plt.plot(range(1, num_epochs+1), val_accuracies, label='Val Accuracy')\n",
    "plt.xlabel('Epoch')\n",
    "plt.ylabel('Accuracy (%)')\n",
    "plt.title('Accuracy')\n",
    "plt.legend()\n",
    "plt.show()"
   ]
  }
 ],
 "metadata": {
  "colab": {
   "provenance": []
  },
  "hide_input": false,
  "kernelspec": {
   "display_name": "Python 3.10",
   "language": "python",
   "name": "python3"
  },
  "language_info": {
   "codemirror_mode": {
    "name": "ipython",
    "version": 3
   },
   "file_extension": ".py",
   "mimetype": "text/x-python",
   "name": "python",
   "nbconvert_exporter": "python",
   "pygments_lexer": "ipython3",
   "version": "3.10.12"
  },
  "nbTranslate": {
   "displayLangs": [
    "*"
   ],
   "hotkey": "alt-t",
   "langInMainMenu": true,
   "sourceLang": "en",
   "targetLang": "fr",
   "useGoogleTranslate": true
  },
  "toc": {
   "base_numbering": 1,
   "nav_menu": {},
   "number_sections": true,
   "sideBar": true,
   "skip_h1_title": false,
   "title_cell": "Table of Contents",
   "title_sidebar": "Contents",
   "toc_cell": false,
   "toc_position": {},
   "toc_section_display": true,
   "toc_window_display": false
  },
  "varInspector": {
   "cols": {
    "lenName": 16,
    "lenType": 16,
    "lenVar": 40
   },
   "kernels_config": {
    "python": {
     "delete_cmd_postfix": "",
     "delete_cmd_prefix": "del ",
     "library": "var_list.py",
     "varRefreshCmd": "print(var_dic_list())"
    },
    "r": {
     "delete_cmd_postfix": ") ",
     "delete_cmd_prefix": "rm(",
     "library": "var_list.r",
     "varRefreshCmd": "cat(var_dic_list()) "
    }
   },
   "types_to_exclude": [
    "module",
    "function",
    "builtin_function_or_method",
    "instance",
    "_Feature"
   ],
   "window_display": false
  }
 },
 "nbformat": 4,
 "nbformat_minor": 4
}
